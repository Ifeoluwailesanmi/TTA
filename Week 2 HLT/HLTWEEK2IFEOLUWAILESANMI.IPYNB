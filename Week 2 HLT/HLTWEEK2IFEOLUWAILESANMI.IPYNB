{
 "cells": [
  {
   "cell_type": "code",
   "execution_count": 142,
   "metadata": {},
   "outputs": [
    {
     "name": "stdout",
     "output_type": "stream",
     "text": [
      "Well, Ife I am thinking of a number between 1 and 10.\n",
      "Wrong, better luck next time\n"
     ]
    }
   ],
   "source": [
    "#Python1 task1\n",
    "import random\n",
    "\n",
    "myName = input(\"Hello! What is your name?\")\n",
    "number = random.randint(1, 10)\n",
    "print(\"Well, \" + myName + \" I am thinking of a number between 1 and 10.\")\n",
    "guess = int(input(\"Take a guess.\"))\n",
    "\n",
    "if guess == number:\n",
    "    print(\"Good job,\" + myName + \"! You guessed my number\")\n",
    "else:\n",
    "    print(\"Wrong, better luck next time\")"
   ]
  },
  {
   "cell_type": "code",
   "execution_count": 21,
   "metadata": {},
   "outputs": [
    {
     "name": "stdout",
     "output_type": "stream",
     "text": [
      "Well, Bill I am thinking of a number  between 1 and 100.\n",
      "How does a rabbi make coffee? Hebrews it!\n"
     ]
    }
   ],
   "source": [
    "#Python1 Task2\n",
    "myName = input(\"Hello! What is your name?\")\n",
    "favouriteNumber = random.randint(1, 100)\n",
    "print(\"Well, \" + myName + \" I am thinking of a number  between 1 and 100.\")\n",
    "jokes = int(input(\"What is your favourite number?\"))\n",
    "\n",
    "if favouriteNumber == 50:\n",
    "    print(\"You know what i saw today? Everything i looked at.\")\n",
    "elif favouriteNumber > 50:\n",
    "    print(\"How does a rabbi make coffee? Hebrews it!\")\n",
    "else: \n",
    "    favouriteNumber < 50\n",
    "    print (\"You can only get spoiled milk from a pampered cow.\")"
   ]
  },
  {
   "cell_type": "code",
   "execution_count": 31,
   "metadata": {},
   "outputs": [
    {
     "name": "stdout",
     "output_type": "stream",
     "text": [
      "Well, Bella I am thinking of a number  between 1 and 100.\n",
      "You can only get spoiled milk from a pampered cow.\n"
     ]
    }
   ],
   "source": [
    "#Python1 Task2\n",
    "myName = input(\"Hello! What is your name?\")\n",
    "favouriteNumber = random.randint(1, 100)\n",
    "print(\"Well, \" + myName + \" I am thinking of a number  between 1 and 100.\")\n",
    "jokes = int(input(\"What is your favourite number?\"))\n",
    "\n",
    "i = 25\n",
    "if i == 25:\n",
    "    print(\"You can only get spoiled milk from a pampered cow.\")\n",
    "elif i > 30:\n",
    "    print(\"You know what i saw today? Everything i looked at.\")\n",
    "else:\n",
    "    print(\"How does a rabbi make coffee? Hebrews it!\")"
   ]
  },
  {
   "cell_type": "code",
   "execution_count": 137,
   "metadata": {},
   "outputs": [
    {
     "name": "stdout",
     "output_type": "stream",
     "text": [
      "Your favourite meal is chicken samosa Spanish tortilla icecream and cake  with a glass of orange juice.\n"
     ]
    }
   ],
   "source": [
    "#Python1 Task3\n",
    "starter = \"chicken samosa \" \n",
    "mainCourse = \"Spanish tortilla \" \n",
    "dessert = \"icecream and cake\" \n",
    "drink = \"orange juice.\"\n",
    "print(\"Your favourite meal is \"  +  starter +  mainCourse  +  dessert + \"  with a glass of \" + drink)"
   ]
  },
  {
   "cell_type": "code",
   "execution_count": 91,
   "metadata": {},
   "outputs": [
    {
     "name": "stdout",
     "output_type": "stream",
     "text": [
      "The value of i is: 2000\n",
      "The value of i is: 1800\n",
      "The value of i is: 1600\n",
      "The value of i is: 1400\n",
      "The value of i is: 1200\n",
      "The value of i is: 1000\n",
      "The value of i is: 800\n"
     ]
    }
   ],
   "source": [
    "#Python1 Task4\n",
    "i = 2000\n",
    "while i >= 200:\n",
    "    print(\"The value of i is:\", i)\n",
    "    if (i < 1000):\n",
    "        break\n",
    "    i -= 200"
   ]
  },
  {
   "cell_type": "code",
   "execution_count": 132,
   "metadata": {},
   "outputs": [
    {
     "name": "stdout",
     "output_type": "stream",
     "text": [
      "15\n",
      "5\n",
      "3\n"
     ]
    }
   ],
   "source": [
    "#Python1 Task5\n",
    "x = input(\"What is your first number?\")\n",
    "y = input(\"What is your second number?\")\n",
    "\n",
    "print(x)\n",
    "print(y)\n",
    "\n",
    "a = input(\"number1 + number2\")\n",
    "b = input(\"number1 - number2\")\n",
    "c = input(\"number1 / number2\")\n",
    "d = input(\"number1 * number2\")\n",
    "e = input(\"number1 ** number2\")\n",
    "\n",
    "print(c)"
   ]
  },
  {
   "cell_type": "code",
   "execution_count": 139,
   "metadata": {},
   "outputs": [
    {
     "name": "stdout",
     "output_type": "stream",
     "text": [
      "number is greater than 10\n"
     ]
    }
   ],
   "source": [
    "#Python 2\n",
    "#Task 1\n",
    "userNumber = int(input(\"Enter a number\"))\n",
    "number = 12\n",
    "if userNumber ==12:\n",
    "    print (\"number is greater than 10\")\n",
    "else:\n",
    "    print (\"number is smaller than 10\")"
   ]
  },
  {
   "cell_type": "code",
   "execution_count": 141,
   "metadata": {},
   "outputs": [
    {
     "name": "stdout",
     "output_type": "stream",
     "text": [
      "number is less than 10\n",
      "0\n",
      "1\n",
      "2\n",
      "3\n",
      "4\n",
      "5\n",
      "6\n",
      "7\n",
      "8\n",
      "9\n"
     ]
    }
   ],
   "source": [
    "#Task 2\n",
    "userNumber = int(input(\"Enter a number\"))\n",
    "userNumber = 5\n",
    "if userNumber ==5:\n",
    "    print (\"number is less than 10\")\n",
    "else:\n",
    "    print (\"number is greater than 10\")\n",
    "    i = 5\n",
    "for i in range (10):\n",
    "    print (i)\n",
    "i += 1"
   ]
  },
  {
   "cell_type": "code",
   "execution_count": 147,
   "metadata": {},
   "outputs": [],
   "source": [
    "#Python2 Task2\n",
    "def bike_cost ():\n",
    "    value = input(\"What is the original bike value?\")\n",
    "    loss = input(\"What is %10 of the original value\")\n",
    "    output = \" The original bike cost of \" + value + \" will decrease by \" + loss + \" every year until it falls below £1000\"\n",
    "\n",
    "    return output"
   ]
  },
  {
   "cell_type": "code",
   "execution_count": 148,
   "metadata": {},
   "outputs": [
    {
     "data": {
      "text/plain": [
       "' The original bike cost of £2000 will decrease by £200 every year until it falls below £1000'"
      ]
     },
     "execution_count": 148,
     "metadata": {},
     "output_type": "execute_result"
    }
   ],
   "source": [
    "bike_cost()"
   ]
  },
  {
   "cell_type": "code",
   "execution_count": 150,
   "metadata": {},
   "outputs": [
    {
     "name": "stdout",
     "output_type": "stream",
     "text": [
      "The value of bike is: 2000\n",
      "The value of bike is: 1800\n",
      "The value of bike is: 1600\n",
      "The value of bike is: 1400\n",
      "The value of bike is: 1200\n",
      "The value of bike is: 1000\n",
      "The value of bike is: 800\n"
     ]
    }
   ],
   "source": [
    "Bike = 2000\n",
    "while Bike >= 200:\n",
    "    print(\"The value of bike is:\", Bike)\n",
    "    if (Bike < 1000):\n",
    "        break\n",
    "    Bike -= 200"
   ]
  },
  {
   "cell_type": "code",
   "execution_count": 167,
   "metadata": {},
   "outputs": [],
   "source": [
    "#Python2 Task3\n",
    "def procedure_1():\n",
    "    x = input(\"What is your first number?\")\n",
    "    y = input(\"What is your second number?\")\n",
    "\n",
    "    print(\"The first number is \" + x)\n",
    "    print(\"The second number is \" + y)"
   ]
  },
  {
   "cell_type": "code",
   "execution_count": 169,
   "metadata": {},
   "outputs": [
    {
     "name": "stdout",
     "output_type": "stream",
     "text": [
      "The first number is 12\n",
      "The second number is 4\n"
     ]
    }
   ],
   "source": [
    "procedure_1()"
   ]
  },
  {
   "cell_type": "code",
   "execution_count": 184,
   "metadata": {},
   "outputs": [
    {
     "name": "stdout",
     "output_type": "stream",
     "text": [
      " The sum of the two numbers is equal to \n"
     ]
    }
   ],
   "source": [
    "def procedure_1():\n",
    "    a = int(input(\"x + y\"))\n",
    "    b = int(input(\"x / y\"))\n",
    "    c = int(input(\"x * y\"))\n",
    "    e = int(input(\"x - y\"))\n",
    "\n",
    "print(\" The sum of the two numbers is equal to \" + a)\n"
   ]
  },
  {
   "cell_type": "code",
   "execution_count": 186,
   "metadata": {},
   "outputs": [],
   "source": [
    "procedure_1()"
   ]
  }
 ],
 "metadata": {
  "interpreter": {
   "hash": "b676e2de9e4280129f97ffb53ac321bea354ecaabeade53a96abcdb7e1d031cd"
  },
  "kernelspec": {
   "display_name": "Python 3.10.0 64-bit",
   "name": "python3"
  },
  "language_info": {
   "codemirror_mode": {
    "name": "ipython",
    "version": 3
   },
   "file_extension": ".py",
   "mimetype": "text/x-python",
   "name": "python",
   "nbconvert_exporter": "python",
   "pygments_lexer": "ipython3",
   "version": "3.10.0"
  },
  "orig_nbformat": 4
 },
 "nbformat": 4,
 "nbformat_minor": 2
}
